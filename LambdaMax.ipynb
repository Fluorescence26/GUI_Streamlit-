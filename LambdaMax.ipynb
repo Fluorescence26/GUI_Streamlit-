{
 "cells": [
  {
   "cell_type": "code",
   "execution_count": 47,
   "metadata": {},
   "outputs": [],
   "source": [
    "import pandas as pd\n",
    "import os\n",
    "from data_preprocessing import preprocess_dataframe\n",
    "from descriptor_calculation import descriptor_cal\n",
    "# from descriptor_calculation import smiles_solvent_descriptors\n",
    "from train_func import train_models\n",
    "import shutil\n",
    "import os\n",
    "import deepchem as dc\n",
    "import pandas as pd\n",
    "import numpy as np\n",
    "from sklearn.preprocessing import StandardScaler\n",
    "from sklearn.model_selection import train_test_split\n",
    "from sklearn.linear_model import LinearRegression, Ridge, Lasso, ElasticNet\n",
    "from sklearn.tree import DecisionTreeRegressor\n",
    "from sklearn.ensemble import RandomForestRegressor\n",
    "from sklearn.svm import SVR\n",
    "from sklearn.neighbors import KNeighborsRegressor\n",
    "from sklearn.metrics import mean_absolute_error, mean_squared_error, r2_score\n",
    "import os\n",
    "import pickle\n",
    "import matplotlib.pyplot as plt"
   ]
  },
  {
   "cell_type": "code",
   "execution_count": 48,
   "metadata": {},
   "outputs": [
    {
     "data": {
      "text/html": [
       "<div>\n",
       "<style scoped>\n",
       "    .dataframe tbody tr th:only-of-type {\n",
       "        vertical-align: middle;\n",
       "    }\n",
       "\n",
       "    .dataframe tbody tr th {\n",
       "        vertical-align: top;\n",
       "    }\n",
       "\n",
       "    .dataframe thead th {\n",
       "        text-align: right;\n",
       "    }\n",
       "</style>\n",
       "<table border=\"1\" class=\"dataframe\">\n",
       "  <thead>\n",
       "    <tr style=\"text-align: right;\">\n",
       "      <th></th>\n",
       "      <th>Smiles</th>\n",
       "      <th>Solvent</th>\n",
       "      <th>Lifetime (ns)</th>\n",
       "      <th>Quantum yield</th>\n",
       "      <th>Fluorescent labeling</th>\n",
       "    </tr>\n",
       "  </thead>\n",
       "  <tbody>\n",
       "    <tr>\n",
       "      <th>0</th>\n",
       "      <td>O=C([O-])c1ccccc1-c1c2ccc(=O)cc-2oc2cc([O-])ccc12</td>\n",
       "      <td>O</td>\n",
       "      <td>4.160</td>\n",
       "      <td>0.950</td>\n",
       "      <td>Yes</td>\n",
       "    </tr>\n",
       "    <tr>\n",
       "      <th>1</th>\n",
       "      <td>O=C([O-])c1ccccc1C1=c2cc3c4c(c2Oc2c1cc1c5c2CCC...</td>\n",
       "      <td>CO</td>\n",
       "      <td>4.590</td>\n",
       "      <td>1.000</td>\n",
       "      <td>Yes</td>\n",
       "    </tr>\n",
       "    <tr>\n",
       "      <th>2</th>\n",
       "      <td>O=C([O-])c1ccccc1-c1c2cc(Br)c(=O)c(Br)c-2oc2c(...</td>\n",
       "      <td>O</td>\n",
       "      <td>1.425</td>\n",
       "      <td>0.200</td>\n",
       "      <td>Yes</td>\n",
       "    </tr>\n",
       "    <tr>\n",
       "      <th>3</th>\n",
       "      <td>O=C([O-])c1ccccc1-c1c2cc(I)c(=O)c(I)c-2oc2c(I)...</td>\n",
       "      <td>O</td>\n",
       "      <td>0.115</td>\n",
       "      <td>0.020</td>\n",
       "      <td>Yes</td>\n",
       "    </tr>\n",
       "    <tr>\n",
       "      <th>4</th>\n",
       "      <td>O=C([O-])c1c(Cl)c(Cl)c(Cl)c(Cl)c1-c1c2cc(I)c(=...</td>\n",
       "      <td>O</td>\n",
       "      <td>0.095</td>\n",
       "      <td>0.018</td>\n",
       "      <td>Yes</td>\n",
       "    </tr>\n",
       "  </tbody>\n",
       "</table>\n",
       "</div>"
      ],
      "text/plain": [
       "                                              Smiles Solvent  Lifetime (ns)  \\\n",
       "0  O=C([O-])c1ccccc1-c1c2ccc(=O)cc-2oc2cc([O-])ccc12       O          4.160   \n",
       "1  O=C([O-])c1ccccc1C1=c2cc3c4c(c2Oc2c1cc1c5c2CCC...      CO          4.590   \n",
       "2  O=C([O-])c1ccccc1-c1c2cc(Br)c(=O)c(Br)c-2oc2c(...       O          1.425   \n",
       "3  O=C([O-])c1ccccc1-c1c2cc(I)c(=O)c(I)c-2oc2c(I)...       O          0.115   \n",
       "4  O=C([O-])c1c(Cl)c(Cl)c(Cl)c(Cl)c1-c1c2cc(I)c(=...       O          0.095   \n",
       "\n",
       "   Quantum yield Fluorescent labeling  \n",
       "0          0.950                  Yes  \n",
       "1          1.000                  Yes  \n",
       "2          0.200                  Yes  \n",
       "3          0.020                  Yes  \n",
       "4          0.018                  Yes  "
      ]
     },
     "execution_count": 48,
     "metadata": {},
     "output_type": "execute_result"
    }
   ],
   "source": [
    "PATH = \"All Properties with Finguprints_3_LF1.csv\"\n",
    "\n",
    "df = pd.read_csv(PATH)\n",
    "df.head()"
   ]
  },
  {
   "cell_type": "code",
   "execution_count": 49,
   "metadata": {},
   "outputs": [
    {
     "data": {
      "text/plain": [
       "(22495, 5)"
      ]
     },
     "execution_count": 49,
     "metadata": {},
     "output_type": "execute_result"
    }
   ],
   "source": [
    "df.shape"
   ]
  },
  {
   "cell_type": "code",
   "execution_count": 50,
   "metadata": {},
   "outputs": [],
   "source": [
    "df.drop(df.index[df['Solvent'] == 'gas'], inplace = True)"
   ]
  },
  {
   "cell_type": "code",
   "execution_count": 51,
   "metadata": {},
   "outputs": [
    {
     "data": {
      "text/plain": [
       "(22495, 5)"
      ]
     },
     "execution_count": 51,
     "metadata": {},
     "output_type": "execute_result"
    }
   ],
   "source": [
    "df.shape"
   ]
  },
  {
   "cell_type": "code",
   "execution_count": 52,
   "metadata": {},
   "outputs": [
    {
     "data": {
      "text/plain": [
       "(22495, 5)"
      ]
     },
     "execution_count": 52,
     "metadata": {},
     "output_type": "execute_result"
    }
   ],
   "source": [
    "df.shape"
   ]
  },
  {
   "cell_type": "code",
   "execution_count": 53,
   "metadata": {},
   "outputs": [
    {
     "data": {
      "text/plain": [
       "(6095, 5)"
      ]
     },
     "execution_count": 53,
     "metadata": {},
     "output_type": "execute_result"
    }
   ],
   "source": [
    "# Select only Fluoroscent molecules, since solvents data is available for Fluroscent pnly\n",
    "df = df.loc[df['Fluorescent labeling'] == 'Yes']\n",
    "df.shape"
   ]
  },
  {
   "cell_type": "markdown",
   "metadata": {},
   "source": [
    "### Calculate descriptors"
   ]
  },
  {
   "cell_type": "code",
   "execution_count": 54,
   "metadata": {},
   "outputs": [],
   "source": [
    "def smiles_solvent_descriptors(df,desc,TARGET):\n",
    "  try:\n",
    "      dataset_original=df\n",
    "      \n",
    "      # morgan\n",
    "      if desc == \"Morgan fingerprints\": \n",
    "          smiles = dataset_original['Smiles'].tolist()\n",
    "          featurizer = dc.feat.CircularFingerprint(radius=3, size=1024)\n",
    "          discriptors = featurizer.featurize(smiles)\n",
    "          smiles_desc = pd.DataFrame(data=discriptors)\n",
    "\n",
    "          solvent = dataset_original['Solvent'].tolist()\n",
    "          discriptors_solvent = featurizer.featurize(solvent)\n",
    "          solvent_desc = pd.DataFrame(data=discriptors_solvent)\n",
    "\n",
    "          x = pd.concat([smiles_desc, solvent_desc], axis=1)\n",
    "\n",
    "          y = dataset_original[TARGET]\n",
    "\n",
    "          return x, y\n",
    "      # rdkit\n",
    "\n",
    "      elif desc == 'Mordred descriptors':\n",
    "          smiles = dataset_original['Smiles'].tolist()\n",
    "          featurizer = dc.feat.MordredDescriptors(ignore_3D = True)\n",
    "          discriptors = featurizer.featurize(smiles)\n",
    "          smiles_desc = pd.DataFrame(data=discriptors)\n",
    "\n",
    "          solvent = dataset_original['Solvent'].tolist()\n",
    "          discriptors_solvent = featurizer.featurize(solvent)\n",
    "          solvent_desc = pd.DataFrame(data=discriptors_solvent)\n",
    "\n",
    "          x = pd.concat([smiles_desc, solvent_desc], axis=1)\n",
    "          \n",
    "          y = dataset_original[TARGET]\n",
    "\n",
    "          return x, y\n",
    "\n",
    "      elif desc == 'MACCSKeysFingerprint':\n",
    "          smiles = dataset_original['Smiles'].tolist()\n",
    "          featurizer = dc.feat.MACCSKeysFingerprint()\n",
    "          discriptors = featurizer.featurize(smiles)\n",
    "          smiles_desc = pd.DataFrame(data=discriptors)\n",
    "\n",
    "          solvent = dataset_original['Solvent'].tolist()\n",
    "          discriptors_solvent = featurizer.featurize(solvent)\n",
    "          solvent_desc = pd.DataFrame(data=discriptors_solvent)\n",
    "\n",
    "          x = pd.concat([smiles_desc, solvent_desc], axis=1)\n",
    "          y = dataset_original[TARGET]\n",
    "\n",
    "          return x, y\n",
    "\n",
    "      elif desc == 'RDKitDescriptors':\n",
    "          smiles = dataset_original['Smiles'].tolist()\n",
    "          featurizer = dc.feat.RDKitDescriptors(use_fragment=True, ipc_avg=True)\n",
    "          discriptors = featurizer.featurize(smiles)\n",
    "          smiles_desc = pd.DataFrame(data=discriptors)\n",
    "\n",
    "          solvent = dataset_original['Solvent'].tolist()\n",
    "          discriptors_solvent = featurizer.featurize(solvent)\n",
    "          solvent_desc = pd.DataFrame(data=discriptors_solvent)\n",
    "\n",
    "          x = pd.concat([smiles_desc, solvent_desc], axis=1)\n",
    "          x.replace([np.inf, -np.inf], np.nan, inplace=True)\n",
    "          x.fillna(0, inplace=True)\n",
    "          scaler = StandardScaler()\n",
    "          x = pd.DataFrame(data=scaler.fit_transform(x))\n",
    "          y = dataset_original[TARGET]\n",
    "\n",
    "          return x, y\n",
    "\n",
    "      elif desc == 'PubChemFingerprint':\n",
    "          smiles = dataset_original['Smiles'].tolist()\n",
    "          featurizer = dc.feat.PubChemFingerprint()\n",
    "          discriptors = featurizer.featurize(smiles)\n",
    "          smiles_desc = pd.DataFrame(data=discriptors)\n",
    "\n",
    "          solvent = dataset_original['Solvent'].tolist()\n",
    "          discriptors_solvent = featurizer.featurize(solvent)\n",
    "          solvent_desc = pd.DataFrame(data=discriptors_solvent)\n",
    "\n",
    "          x = pd.concat([smiles_desc, solvent_desc], axis=1)\n",
    "          y = dataset_original[TARGET]\n",
    "\n",
    "          return x, y\n",
    "\n",
    "      else:\n",
    "          pass\n",
    "\n",
    "  except Exception as e:\n",
    "      raise e\n"
   ]
  },
  {
   "cell_type": "code",
   "execution_count": 55,
   "metadata": {},
   "outputs": [],
   "source": [
    "descriptor_list = [\"Morgan fingerprints\",\"MACCSKeysFingerprint\",\"RDKitDescriptors\"] \n",
    "TARGET = \"Lifetime (ns)\""
   ]
  },
  {
   "cell_type": "code",
   "execution_count": 56,
   "metadata": {},
   "outputs": [],
   "source": [
    "path_to_descriptors = \"LambdaMaxDesc\""
   ]
  },
  {
   "cell_type": "code",
   "execution_count": 57,
   "metadata": {},
   "outputs": [
    {
     "name": "stdout",
     "output_type": "stream",
     "text": [
      "X and y saved for Morgan fingerprints\n",
      "descriptors shape: (6095, 2048)\n",
      "X and y saved for MACCSKeysFingerprint\n",
      "descriptors shape: (6095, 334)\n",
      "X and y saved for RDKitDescriptors\n",
      "descriptors shape: (6095, 416)\n"
     ]
    }
   ],
   "source": [
    "for descriptor in descriptor_list:\n",
    "    # Call the descriptor_cal function to get X and Y\n",
    "    X, Y = smiles_solvent_descriptors(df, descriptor,TARGET)\n",
    "    \n",
    "    # Create a folder for the descriptor if it doesn't exist\n",
    "    folder_path = os.path.join(os.getcwd(),path_to_descriptors, f\"{descriptor}\")\n",
    "    if not os.path.exists(folder_path):\n",
    "        os.makedirs(folder_path)\n",
    "    \n",
    "    # Save the X and Y DataFrames to separate CSV files in the folder\n",
    "    x_file_path = os.path.join(folder_path, 'X.csv')\n",
    "    y_file_path = os.path.join(folder_path, 'Y.csv')\n",
    "    X.to_csv(x_file_path, index=False)\n",
    "    Y.to_csv(y_file_path, index=False)\n",
    "\n",
    "    print(f\"X and y saved for {descriptor}\")\n",
    "    print(f\"descriptors shape: {X.shape}\")"
   ]
  },
  {
   "cell_type": "markdown",
   "metadata": {},
   "source": [
    "### Train Models"
   ]
  },
  {
   "cell_type": "code",
   "execution_count": 58,
   "metadata": {},
   "outputs": [],
   "source": [
    "def train_regression(X, y, PATH):\n",
    "    # Split the data into training and testing sets\n",
    "    X_train, X_test, y_train, y_test = train_test_split(X, y, test_size=0.2, random_state=42)\n",
    "\n",
    "    # Define a dictionary of regression models\n",
    "    models = {\n",
    "        'Ridge Regression': Ridge(),\n",
    "        'Lasso Regression': Lasso(),\n",
    "        'ElasticNet Regression': ElasticNet(),\n",
    "        'Decision Tree Regression': DecisionTreeRegressor(),\n",
    "        'Random Forest Regression': RandomForestRegressor(),\n",
    "        'Support Vector Regression': SVR(),\n",
    "        'K-Nearest Neighbors Regression': KNeighborsRegressor()\n",
    "    }\n",
    "\n",
    "    # Define a list of evaluation metrics to evaluate the models\n",
    "    metrics = [mean_absolute_error, mean_squared_error, r2_score]\n",
    "\n",
    "    # Create a results folder if it doesn't exist\n",
    "    if not os.path.exists(PATH):\n",
    "        os.makedirs(PATH)\n",
    "\n",
    "    # Loop through each model, train it, and evaluate its performance\n",
    "    for name, model in models.items():\n",
    "        model.fit(X_train, y_train)\n",
    "        y_pred = model.predict(X_test)\n",
    "        results = {}\n",
    "        for metric in metrics:\n",
    "            metric_name = metric.__name__\n",
    "            results[metric_name] = metric(y_test, y_pred)\n",
    "        results_df = pd.DataFrame.from_dict(results, orient='index', columns=[name])\n",
    "\n",
    "        # create path\n",
    "        new_path= os.path.join(PATH,name)\n",
    "        os.makedirs(new_path, exist_ok=True)\n",
    "\n",
    "        # save scores\n",
    "        results_df.to_csv(f'{PATH}/{name}/{name}.csv')\n",
    "\n",
    "        # save models\n",
    "        pickle.dump(model, open(f'{PATH}/{name}/{model}.pkl', 'wb'))\n",
    "\n",
    "        # plot regression line with R-squared score\n",
    "        y_test= y_test.squeeze()\n",
    "        r2 = r2_score(y_test, y_pred)\n",
    "        plt.scatter(y_test, y_pred)\n",
    "        plt.plot([min(y_test), max(y_test)], [min(y_test), max(y_test)], '--', color='red') # regression line\n",
    "        plt.xlabel('True Values')\n",
    "        plt.ylabel('Predictions')\n",
    "        plt.title(f'{name} (R-squared = {r2:.2f})')\n",
    "        plt.savefig(f'{PATH}/{name}/{name}_scatter.png', dpi=300, bbox_inches='tight')\n",
    "        plt.close()"
   ]
  },
  {
   "cell_type": "code",
   "execution_count": 46,
   "metadata": {},
   "outputs": [
    {
     "name": "stderr",
     "output_type": "stream",
     "text": [
      "C:\\Users\\26pde\\AppData\\Local\\Temp\\ipykernel_17864\\3194391035.py:25: DataConversionWarning: A column-vector y was passed when a 1d array was expected. Please change the shape of y to (n_samples,), for example using ravel().\n",
      "  model.fit(X_train, y_train)\n",
      "C:\\Users\\26pde\\anaconda3\\lib\\site-packages\\sklearn\\utils\\validation.py:1143: DataConversionWarning: A column-vector y was passed when a 1d array was expected. Please change the shape of y to (n_samples, ), for example using ravel().\n",
      "  y = column_or_1d(y, warn=True)\n",
      "C:\\Users\\26pde\\AppData\\Local\\Temp\\ipykernel_17864\\3194391035.py:25: DataConversionWarning: A column-vector y was passed when a 1d array was expected. Please change the shape of y to (n_samples,), for example using ravel().\n",
      "  model.fit(X_train, y_train)\n",
      "C:\\Users\\26pde\\anaconda3\\lib\\site-packages\\sklearn\\utils\\validation.py:1143: DataConversionWarning: A column-vector y was passed when a 1d array was expected. Please change the shape of y to (n_samples, ), for example using ravel().\n",
      "  y = column_or_1d(y, warn=True)\n"
     ]
    },
    {
     "ename": "AttributeError",
     "evalue": "'NoneType' object has no attribute 'split'",
     "output_type": "error",
     "traceback": [
      "\u001b[1;31m---------------------------------------------------------------------------\u001b[0m",
      "\u001b[1;31mAttributeError\u001b[0m                            Traceback (most recent call last)",
      "Cell \u001b[1;32mIn[46], line 20\u001b[0m\n\u001b[0;32m     17\u001b[0m Y \u001b[38;5;241m=\u001b[39m pd\u001b[38;5;241m.\u001b[39mread_csv(path_to_Y)\n\u001b[0;32m     19\u001b[0m \u001b[38;5;66;03m# Call the train_models function with X, Y, and the current subfolder name as the PATH argument\u001b[39;00m\n\u001b[1;32m---> 20\u001b[0m \u001b[43mtrain_regression\u001b[49m\u001b[43m(\u001b[49m\u001b[43mX\u001b[49m\u001b[43m,\u001b[49m\u001b[43m \u001b[49m\u001b[43mY\u001b[49m\u001b[43m,\u001b[49m\u001b[43m \u001b[49m\u001b[38;5;124;43mf\u001b[39;49m\u001b[38;5;124;43m\"\u001b[39;49m\u001b[38;5;132;43;01m{\u001b[39;49;00m\u001b[43mresults_folder\u001b[49m\u001b[38;5;132;43;01m}\u001b[39;49;00m\u001b[38;5;124;43m/\u001b[39;49m\u001b[38;5;132;43;01m{\u001b[39;49;00m\u001b[43msubfolder_name\u001b[49m\u001b[38;5;132;43;01m}\u001b[39;49;00m\u001b[38;5;124;43m\"\u001b[39;49m\u001b[43m)\u001b[49m\n",
      "Cell \u001b[1;32mIn[45], line 26\u001b[0m, in \u001b[0;36mtrain_regression\u001b[1;34m(X, y, PATH)\u001b[0m\n\u001b[0;32m     24\u001b[0m \u001b[38;5;28;01mfor\u001b[39;00m name, model \u001b[38;5;129;01min\u001b[39;00m models\u001b[38;5;241m.\u001b[39mitems():\n\u001b[0;32m     25\u001b[0m     model\u001b[38;5;241m.\u001b[39mfit(X_train, y_train)\n\u001b[1;32m---> 26\u001b[0m     y_pred \u001b[38;5;241m=\u001b[39m \u001b[43mmodel\u001b[49m\u001b[38;5;241;43m.\u001b[39;49m\u001b[43mpredict\u001b[49m\u001b[43m(\u001b[49m\u001b[43mX_test\u001b[49m\u001b[43m)\u001b[49m\n\u001b[0;32m     27\u001b[0m     results \u001b[38;5;241m=\u001b[39m {}\n\u001b[0;32m     28\u001b[0m     \u001b[38;5;28;01mfor\u001b[39;00m metric \u001b[38;5;129;01min\u001b[39;00m metrics:\n",
      "File \u001b[1;32m~\\anaconda3\\lib\\site-packages\\sklearn\\neighbors\\_regression.py:236\u001b[0m, in \u001b[0;36mKNeighborsRegressor.predict\u001b[1;34m(self, X)\u001b[0m\n\u001b[0;32m    220\u001b[0m \u001b[38;5;124;03m\"\"\"Predict the target for the provided data.\u001b[39;00m\n\u001b[0;32m    221\u001b[0m \n\u001b[0;32m    222\u001b[0m \u001b[38;5;124;03mParameters\u001b[39;00m\n\u001b[1;32m   (...)\u001b[0m\n\u001b[0;32m    231\u001b[0m \u001b[38;5;124;03m    Target values.\u001b[39;00m\n\u001b[0;32m    232\u001b[0m \u001b[38;5;124;03m\"\"\"\u001b[39;00m\n\u001b[0;32m    233\u001b[0m \u001b[38;5;28;01mif\u001b[39;00m \u001b[38;5;28mself\u001b[39m\u001b[38;5;241m.\u001b[39mweights \u001b[38;5;241m==\u001b[39m \u001b[38;5;124m\"\u001b[39m\u001b[38;5;124muniform\u001b[39m\u001b[38;5;124m\"\u001b[39m:\n\u001b[0;32m    234\u001b[0m     \u001b[38;5;66;03m# In that case, we do not need the distances to perform\u001b[39;00m\n\u001b[0;32m    235\u001b[0m     \u001b[38;5;66;03m# the weighting so we do not compute them.\u001b[39;00m\n\u001b[1;32m--> 236\u001b[0m     neigh_ind \u001b[38;5;241m=\u001b[39m \u001b[38;5;28;43mself\u001b[39;49m\u001b[38;5;241;43m.\u001b[39;49m\u001b[43mkneighbors\u001b[49m\u001b[43m(\u001b[49m\u001b[43mX\u001b[49m\u001b[43m,\u001b[49m\u001b[43m \u001b[49m\u001b[43mreturn_distance\u001b[49m\u001b[38;5;241;43m=\u001b[39;49m\u001b[38;5;28;43;01mFalse\u001b[39;49;00m\u001b[43m)\u001b[49m\n\u001b[0;32m    237\u001b[0m     neigh_dist \u001b[38;5;241m=\u001b[39m \u001b[38;5;28;01mNone\u001b[39;00m\n\u001b[0;32m    238\u001b[0m \u001b[38;5;28;01melse\u001b[39;00m:\n",
      "File \u001b[1;32m~\\anaconda3\\lib\\site-packages\\sklearn\\neighbors\\_base.py:824\u001b[0m, in \u001b[0;36mKNeighborsMixin.kneighbors\u001b[1;34m(self, X, n_neighbors, return_distance)\u001b[0m\n\u001b[0;32m    817\u001b[0m use_pairwise_distances_reductions \u001b[38;5;241m=\u001b[39m (\n\u001b[0;32m    818\u001b[0m     \u001b[38;5;28mself\u001b[39m\u001b[38;5;241m.\u001b[39m_fit_method \u001b[38;5;241m==\u001b[39m \u001b[38;5;124m\"\u001b[39m\u001b[38;5;124mbrute\u001b[39m\u001b[38;5;124m\"\u001b[39m\n\u001b[0;32m    819\u001b[0m     \u001b[38;5;129;01mand\u001b[39;00m ArgKmin\u001b[38;5;241m.\u001b[39mis_usable_for(\n\u001b[0;32m    820\u001b[0m         X \u001b[38;5;28;01mif\u001b[39;00m X \u001b[38;5;129;01mis\u001b[39;00m \u001b[38;5;129;01mnot\u001b[39;00m \u001b[38;5;28;01mNone\u001b[39;00m \u001b[38;5;28;01melse\u001b[39;00m \u001b[38;5;28mself\u001b[39m\u001b[38;5;241m.\u001b[39m_fit_X, \u001b[38;5;28mself\u001b[39m\u001b[38;5;241m.\u001b[39m_fit_X, \u001b[38;5;28mself\u001b[39m\u001b[38;5;241m.\u001b[39meffective_metric_\n\u001b[0;32m    821\u001b[0m     )\n\u001b[0;32m    822\u001b[0m )\n\u001b[0;32m    823\u001b[0m \u001b[38;5;28;01mif\u001b[39;00m use_pairwise_distances_reductions:\n\u001b[1;32m--> 824\u001b[0m     results \u001b[38;5;241m=\u001b[39m \u001b[43mArgKmin\u001b[49m\u001b[38;5;241;43m.\u001b[39;49m\u001b[43mcompute\u001b[49m\u001b[43m(\u001b[49m\n\u001b[0;32m    825\u001b[0m \u001b[43m        \u001b[49m\u001b[43mX\u001b[49m\u001b[38;5;241;43m=\u001b[39;49m\u001b[43mX\u001b[49m\u001b[43m,\u001b[49m\n\u001b[0;32m    826\u001b[0m \u001b[43m        \u001b[49m\u001b[43mY\u001b[49m\u001b[38;5;241;43m=\u001b[39;49m\u001b[38;5;28;43mself\u001b[39;49m\u001b[38;5;241;43m.\u001b[39;49m\u001b[43m_fit_X\u001b[49m\u001b[43m,\u001b[49m\n\u001b[0;32m    827\u001b[0m \u001b[43m        \u001b[49m\u001b[43mk\u001b[49m\u001b[38;5;241;43m=\u001b[39;49m\u001b[43mn_neighbors\u001b[49m\u001b[43m,\u001b[49m\n\u001b[0;32m    828\u001b[0m \u001b[43m        \u001b[49m\u001b[43mmetric\u001b[49m\u001b[38;5;241;43m=\u001b[39;49m\u001b[38;5;28;43mself\u001b[39;49m\u001b[38;5;241;43m.\u001b[39;49m\u001b[43meffective_metric_\u001b[49m\u001b[43m,\u001b[49m\n\u001b[0;32m    829\u001b[0m \u001b[43m        \u001b[49m\u001b[43mmetric_kwargs\u001b[49m\u001b[38;5;241;43m=\u001b[39;49m\u001b[38;5;28;43mself\u001b[39;49m\u001b[38;5;241;43m.\u001b[39;49m\u001b[43meffective_metric_params_\u001b[49m\u001b[43m,\u001b[49m\n\u001b[0;32m    830\u001b[0m \u001b[43m        \u001b[49m\u001b[43mstrategy\u001b[49m\u001b[38;5;241;43m=\u001b[39;49m\u001b[38;5;124;43m\"\u001b[39;49m\u001b[38;5;124;43mauto\u001b[39;49m\u001b[38;5;124;43m\"\u001b[39;49m\u001b[43m,\u001b[49m\n\u001b[0;32m    831\u001b[0m \u001b[43m        \u001b[49m\u001b[43mreturn_distance\u001b[49m\u001b[38;5;241;43m=\u001b[39;49m\u001b[43mreturn_distance\u001b[49m\u001b[43m,\u001b[49m\n\u001b[0;32m    832\u001b[0m \u001b[43m    \u001b[49m\u001b[43m)\u001b[49m\n\u001b[0;32m    834\u001b[0m \u001b[38;5;28;01melif\u001b[39;00m (\n\u001b[0;32m    835\u001b[0m     \u001b[38;5;28mself\u001b[39m\u001b[38;5;241m.\u001b[39m_fit_method \u001b[38;5;241m==\u001b[39m \u001b[38;5;124m\"\u001b[39m\u001b[38;5;124mbrute\u001b[39m\u001b[38;5;124m\"\u001b[39m \u001b[38;5;129;01mand\u001b[39;00m \u001b[38;5;28mself\u001b[39m\u001b[38;5;241m.\u001b[39mmetric \u001b[38;5;241m==\u001b[39m \u001b[38;5;124m\"\u001b[39m\u001b[38;5;124mprecomputed\u001b[39m\u001b[38;5;124m\"\u001b[39m \u001b[38;5;129;01mand\u001b[39;00m issparse(X)\n\u001b[0;32m    836\u001b[0m ):\n\u001b[0;32m    837\u001b[0m     results \u001b[38;5;241m=\u001b[39m _kneighbors_from_graph(\n\u001b[0;32m    838\u001b[0m         X, n_neighbors\u001b[38;5;241m=\u001b[39mn_neighbors, return_distance\u001b[38;5;241m=\u001b[39mreturn_distance\n\u001b[0;32m    839\u001b[0m     )\n",
      "File \u001b[1;32m~\\anaconda3\\lib\\site-packages\\sklearn\\metrics\\_pairwise_distances_reduction\\_dispatcher.py:277\u001b[0m, in \u001b[0;36mArgKmin.compute\u001b[1;34m(cls, X, Y, k, metric, chunk_size, metric_kwargs, strategy, return_distance)\u001b[0m\n\u001b[0;32m    196\u001b[0m \u001b[38;5;124;03m\"\"\"Compute the argkmin reduction.\u001b[39;00m\n\u001b[0;32m    197\u001b[0m \n\u001b[0;32m    198\u001b[0m \u001b[38;5;124;03mParameters\u001b[39;00m\n\u001b[1;32m   (...)\u001b[0m\n\u001b[0;32m    274\u001b[0m \u001b[38;5;124;03mreturns.\u001b[39;00m\n\u001b[0;32m    275\u001b[0m \u001b[38;5;124;03m\"\"\"\u001b[39;00m\n\u001b[0;32m    276\u001b[0m \u001b[38;5;28;01mif\u001b[39;00m X\u001b[38;5;241m.\u001b[39mdtype \u001b[38;5;241m==\u001b[39m Y\u001b[38;5;241m.\u001b[39mdtype \u001b[38;5;241m==\u001b[39m np\u001b[38;5;241m.\u001b[39mfloat64:\n\u001b[1;32m--> 277\u001b[0m     \u001b[38;5;28;01mreturn\u001b[39;00m \u001b[43mArgKmin64\u001b[49m\u001b[38;5;241;43m.\u001b[39;49m\u001b[43mcompute\u001b[49m\u001b[43m(\u001b[49m\n\u001b[0;32m    278\u001b[0m \u001b[43m        \u001b[49m\u001b[43mX\u001b[49m\u001b[38;5;241;43m=\u001b[39;49m\u001b[43mX\u001b[49m\u001b[43m,\u001b[49m\n\u001b[0;32m    279\u001b[0m \u001b[43m        \u001b[49m\u001b[43mY\u001b[49m\u001b[38;5;241;43m=\u001b[39;49m\u001b[43mY\u001b[49m\u001b[43m,\u001b[49m\n\u001b[0;32m    280\u001b[0m \u001b[43m        \u001b[49m\u001b[43mk\u001b[49m\u001b[38;5;241;43m=\u001b[39;49m\u001b[43mk\u001b[49m\u001b[43m,\u001b[49m\n\u001b[0;32m    281\u001b[0m \u001b[43m        \u001b[49m\u001b[43mmetric\u001b[49m\u001b[38;5;241;43m=\u001b[39;49m\u001b[43mmetric\u001b[49m\u001b[43m,\u001b[49m\n\u001b[0;32m    282\u001b[0m \u001b[43m        \u001b[49m\u001b[43mchunk_size\u001b[49m\u001b[38;5;241;43m=\u001b[39;49m\u001b[43mchunk_size\u001b[49m\u001b[43m,\u001b[49m\n\u001b[0;32m    283\u001b[0m \u001b[43m        \u001b[49m\u001b[43mmetric_kwargs\u001b[49m\u001b[38;5;241;43m=\u001b[39;49m\u001b[43mmetric_kwargs\u001b[49m\u001b[43m,\u001b[49m\n\u001b[0;32m    284\u001b[0m \u001b[43m        \u001b[49m\u001b[43mstrategy\u001b[49m\u001b[38;5;241;43m=\u001b[39;49m\u001b[43mstrategy\u001b[49m\u001b[43m,\u001b[49m\n\u001b[0;32m    285\u001b[0m \u001b[43m        \u001b[49m\u001b[43mreturn_distance\u001b[49m\u001b[38;5;241;43m=\u001b[39;49m\u001b[43mreturn_distance\u001b[49m\u001b[43m,\u001b[49m\n\u001b[0;32m    286\u001b[0m \u001b[43m    \u001b[49m\u001b[43m)\u001b[49m\n\u001b[0;32m    288\u001b[0m \u001b[38;5;28;01mif\u001b[39;00m X\u001b[38;5;241m.\u001b[39mdtype \u001b[38;5;241m==\u001b[39m Y\u001b[38;5;241m.\u001b[39mdtype \u001b[38;5;241m==\u001b[39m np\u001b[38;5;241m.\u001b[39mfloat32:\n\u001b[0;32m    289\u001b[0m     \u001b[38;5;28;01mreturn\u001b[39;00m ArgKmin32\u001b[38;5;241m.\u001b[39mcompute(\n\u001b[0;32m    290\u001b[0m         X\u001b[38;5;241m=\u001b[39mX,\n\u001b[0;32m    291\u001b[0m         Y\u001b[38;5;241m=\u001b[39mY,\n\u001b[1;32m   (...)\u001b[0m\n\u001b[0;32m    297\u001b[0m         return_distance\u001b[38;5;241m=\u001b[39mreturn_distance,\n\u001b[0;32m    298\u001b[0m     )\n",
      "File \u001b[1;32msklearn\\metrics\\_pairwise_distances_reduction\\_argkmin.pyx:95\u001b[0m, in \u001b[0;36msklearn.metrics._pairwise_distances_reduction._argkmin.ArgKmin64.compute\u001b[1;34m()\u001b[0m\n",
      "File \u001b[1;32m~\\anaconda3\\lib\\site-packages\\sklearn\\utils\\fixes.py:139\u001b[0m, in \u001b[0;36mthreadpool_limits\u001b[1;34m(limits, user_api)\u001b[0m\n\u001b[0;32m    137\u001b[0m     \u001b[38;5;28;01mreturn\u001b[39;00m controller\u001b[38;5;241m.\u001b[39mlimit(limits\u001b[38;5;241m=\u001b[39mlimits, user_api\u001b[38;5;241m=\u001b[39muser_api)\n\u001b[0;32m    138\u001b[0m \u001b[38;5;28;01melse\u001b[39;00m:\n\u001b[1;32m--> 139\u001b[0m     \u001b[38;5;28;01mreturn\u001b[39;00m \u001b[43mthreadpoolctl\u001b[49m\u001b[38;5;241;43m.\u001b[39;49m\u001b[43mthreadpool_limits\u001b[49m\u001b[43m(\u001b[49m\u001b[43mlimits\u001b[49m\u001b[38;5;241;43m=\u001b[39;49m\u001b[43mlimits\u001b[49m\u001b[43m,\u001b[49m\u001b[43m \u001b[49m\u001b[43muser_api\u001b[49m\u001b[38;5;241;43m=\u001b[39;49m\u001b[43muser_api\u001b[49m\u001b[43m)\u001b[49m\n",
      "File \u001b[1;32m~\\anaconda3\\lib\\site-packages\\threadpoolctl.py:171\u001b[0m, in \u001b[0;36mthreadpool_limits.__init__\u001b[1;34m(self, limits, user_api)\u001b[0m\n\u001b[0;32m    167\u001b[0m \u001b[38;5;28;01mdef\u001b[39;00m \u001b[38;5;21m__init__\u001b[39m(\u001b[38;5;28mself\u001b[39m, limits\u001b[38;5;241m=\u001b[39m\u001b[38;5;28;01mNone\u001b[39;00m, user_api\u001b[38;5;241m=\u001b[39m\u001b[38;5;28;01mNone\u001b[39;00m):\n\u001b[0;32m    168\u001b[0m     \u001b[38;5;28mself\u001b[39m\u001b[38;5;241m.\u001b[39m_limits, \u001b[38;5;28mself\u001b[39m\u001b[38;5;241m.\u001b[39m_user_api, \u001b[38;5;28mself\u001b[39m\u001b[38;5;241m.\u001b[39m_prefixes \u001b[38;5;241m=\u001b[39m \\\n\u001b[0;32m    169\u001b[0m         \u001b[38;5;28mself\u001b[39m\u001b[38;5;241m.\u001b[39m_check_params(limits, user_api)\n\u001b[1;32m--> 171\u001b[0m     \u001b[38;5;28mself\u001b[39m\u001b[38;5;241m.\u001b[39m_original_info \u001b[38;5;241m=\u001b[39m \u001b[38;5;28;43mself\u001b[39;49m\u001b[38;5;241;43m.\u001b[39;49m\u001b[43m_set_threadpool_limits\u001b[49m\u001b[43m(\u001b[49m\u001b[43m)\u001b[49m\n",
      "File \u001b[1;32m~\\anaconda3\\lib\\site-packages\\threadpoolctl.py:268\u001b[0m, in \u001b[0;36mthreadpool_limits._set_threadpool_limits\u001b[1;34m(self)\u001b[0m\n\u001b[0;32m    265\u001b[0m \u001b[38;5;28;01mif\u001b[39;00m \u001b[38;5;28mself\u001b[39m\u001b[38;5;241m.\u001b[39m_limits \u001b[38;5;129;01mis\u001b[39;00m \u001b[38;5;28;01mNone\u001b[39;00m:\n\u001b[0;32m    266\u001b[0m     \u001b[38;5;28;01mreturn\u001b[39;00m \u001b[38;5;28;01mNone\u001b[39;00m\n\u001b[1;32m--> 268\u001b[0m modules \u001b[38;5;241m=\u001b[39m \u001b[43m_ThreadpoolInfo\u001b[49m\u001b[43m(\u001b[49m\u001b[43mprefixes\u001b[49m\u001b[38;5;241;43m=\u001b[39;49m\u001b[38;5;28;43mself\u001b[39;49m\u001b[38;5;241;43m.\u001b[39;49m\u001b[43m_prefixes\u001b[49m\u001b[43m,\u001b[49m\n\u001b[0;32m    269\u001b[0m \u001b[43m                          \u001b[49m\u001b[43muser_api\u001b[49m\u001b[38;5;241;43m=\u001b[39;49m\u001b[38;5;28;43mself\u001b[39;49m\u001b[38;5;241;43m.\u001b[39;49m\u001b[43m_user_api\u001b[49m\u001b[43m)\u001b[49m\n\u001b[0;32m    270\u001b[0m \u001b[38;5;28;01mfor\u001b[39;00m module \u001b[38;5;129;01min\u001b[39;00m modules:\n\u001b[0;32m    271\u001b[0m     \u001b[38;5;66;03m# self._limits is a dict {key: num_threads} where key is either\u001b[39;00m\n\u001b[0;32m    272\u001b[0m     \u001b[38;5;66;03m# a prefix or a user_api. If a module matches both, the limit\u001b[39;00m\n\u001b[0;32m    273\u001b[0m     \u001b[38;5;66;03m# corresponding to the prefix is chosed.\u001b[39;00m\n\u001b[0;32m    274\u001b[0m     \u001b[38;5;28;01mif\u001b[39;00m module\u001b[38;5;241m.\u001b[39mprefix \u001b[38;5;129;01min\u001b[39;00m \u001b[38;5;28mself\u001b[39m\u001b[38;5;241m.\u001b[39m_limits:\n",
      "File \u001b[1;32m~\\anaconda3\\lib\\site-packages\\threadpoolctl.py:340\u001b[0m, in \u001b[0;36m_ThreadpoolInfo.__init__\u001b[1;34m(self, user_api, prefixes, modules)\u001b[0m\n\u001b[0;32m    337\u001b[0m     \u001b[38;5;28mself\u001b[39m\u001b[38;5;241m.\u001b[39muser_api \u001b[38;5;241m=\u001b[39m [] \u001b[38;5;28;01mif\u001b[39;00m user_api \u001b[38;5;129;01mis\u001b[39;00m \u001b[38;5;28;01mNone\u001b[39;00m \u001b[38;5;28;01melse\u001b[39;00m user_api\n\u001b[0;32m    339\u001b[0m     \u001b[38;5;28mself\u001b[39m\u001b[38;5;241m.\u001b[39mmodules \u001b[38;5;241m=\u001b[39m []\n\u001b[1;32m--> 340\u001b[0m     \u001b[38;5;28;43mself\u001b[39;49m\u001b[38;5;241;43m.\u001b[39;49m\u001b[43m_load_modules\u001b[49m\u001b[43m(\u001b[49m\u001b[43m)\u001b[49m\n\u001b[0;32m    341\u001b[0m     \u001b[38;5;28mself\u001b[39m\u001b[38;5;241m.\u001b[39m_warn_if_incompatible_openmp()\n\u001b[0;32m    342\u001b[0m \u001b[38;5;28;01melse\u001b[39;00m:\n",
      "File \u001b[1;32m~\\anaconda3\\lib\\site-packages\\threadpoolctl.py:373\u001b[0m, in \u001b[0;36m_ThreadpoolInfo._load_modules\u001b[1;34m(self)\u001b[0m\n\u001b[0;32m    371\u001b[0m     \u001b[38;5;28mself\u001b[39m\u001b[38;5;241m.\u001b[39m_find_modules_with_dyld()\n\u001b[0;32m    372\u001b[0m \u001b[38;5;28;01melif\u001b[39;00m sys\u001b[38;5;241m.\u001b[39mplatform \u001b[38;5;241m==\u001b[39m \u001b[38;5;124m\"\u001b[39m\u001b[38;5;124mwin32\u001b[39m\u001b[38;5;124m\"\u001b[39m:\n\u001b[1;32m--> 373\u001b[0m     \u001b[38;5;28;43mself\u001b[39;49m\u001b[38;5;241;43m.\u001b[39;49m\u001b[43m_find_modules_with_enum_process_module_ex\u001b[49m\u001b[43m(\u001b[49m\u001b[43m)\u001b[49m\n\u001b[0;32m    374\u001b[0m \u001b[38;5;28;01melse\u001b[39;00m:\n\u001b[0;32m    375\u001b[0m     \u001b[38;5;28mself\u001b[39m\u001b[38;5;241m.\u001b[39m_find_modules_with_dl_iterate_phdr()\n",
      "File \u001b[1;32m~\\anaconda3\\lib\\site-packages\\threadpoolctl.py:485\u001b[0m, in \u001b[0;36m_ThreadpoolInfo._find_modules_with_enum_process_module_ex\u001b[1;34m(self)\u001b[0m\n\u001b[0;32m    482\u001b[0m         filepath \u001b[38;5;241m=\u001b[39m buf\u001b[38;5;241m.\u001b[39mvalue\n\u001b[0;32m    484\u001b[0m         \u001b[38;5;66;03m# Store the module if it is supported and selected\u001b[39;00m\n\u001b[1;32m--> 485\u001b[0m         \u001b[38;5;28;43mself\u001b[39;49m\u001b[38;5;241;43m.\u001b[39;49m\u001b[43m_make_module_from_path\u001b[49m\u001b[43m(\u001b[49m\u001b[43mfilepath\u001b[49m\u001b[43m)\u001b[49m\n\u001b[0;32m    486\u001b[0m \u001b[38;5;28;01mfinally\u001b[39;00m:\n\u001b[0;32m    487\u001b[0m     kernel_32\u001b[38;5;241m.\u001b[39mCloseHandle(h_process)\n",
      "File \u001b[1;32m~\\anaconda3\\lib\\site-packages\\threadpoolctl.py:515\u001b[0m, in \u001b[0;36m_ThreadpoolInfo._make_module_from_path\u001b[1;34m(self, filepath)\u001b[0m\n\u001b[0;32m    513\u001b[0m \u001b[38;5;28;01mif\u001b[39;00m prefix \u001b[38;5;129;01min\u001b[39;00m \u001b[38;5;28mself\u001b[39m\u001b[38;5;241m.\u001b[39mprefixes \u001b[38;5;129;01mor\u001b[39;00m user_api \u001b[38;5;129;01min\u001b[39;00m \u001b[38;5;28mself\u001b[39m\u001b[38;5;241m.\u001b[39muser_api:\n\u001b[0;32m    514\u001b[0m     module_class \u001b[38;5;241m=\u001b[39m \u001b[38;5;28mglobals\u001b[39m()[module_class]\n\u001b[1;32m--> 515\u001b[0m     module \u001b[38;5;241m=\u001b[39m \u001b[43mmodule_class\u001b[49m\u001b[43m(\u001b[49m\u001b[43mfilepath\u001b[49m\u001b[43m,\u001b[49m\u001b[43m \u001b[49m\u001b[43mprefix\u001b[49m\u001b[43m,\u001b[49m\u001b[43m \u001b[49m\u001b[43muser_api\u001b[49m\u001b[43m,\u001b[49m\u001b[43m \u001b[49m\u001b[43minternal_api\u001b[49m\u001b[43m)\u001b[49m\n\u001b[0;32m    516\u001b[0m     \u001b[38;5;28mself\u001b[39m\u001b[38;5;241m.\u001b[39mmodules\u001b[38;5;241m.\u001b[39mappend(module)\n",
      "File \u001b[1;32m~\\anaconda3\\lib\\site-packages\\threadpoolctl.py:606\u001b[0m, in \u001b[0;36m_Module.__init__\u001b[1;34m(self, filepath, prefix, user_api, internal_api)\u001b[0m\n\u001b[0;32m    604\u001b[0m \u001b[38;5;28mself\u001b[39m\u001b[38;5;241m.\u001b[39minternal_api \u001b[38;5;241m=\u001b[39m internal_api\n\u001b[0;32m    605\u001b[0m \u001b[38;5;28mself\u001b[39m\u001b[38;5;241m.\u001b[39m_dynlib \u001b[38;5;241m=\u001b[39m ctypes\u001b[38;5;241m.\u001b[39mCDLL(filepath, mode\u001b[38;5;241m=\u001b[39m_RTLD_NOLOAD)\n\u001b[1;32m--> 606\u001b[0m \u001b[38;5;28mself\u001b[39m\u001b[38;5;241m.\u001b[39mversion \u001b[38;5;241m=\u001b[39m \u001b[38;5;28;43mself\u001b[39;49m\u001b[38;5;241;43m.\u001b[39;49m\u001b[43mget_version\u001b[49m\u001b[43m(\u001b[49m\u001b[43m)\u001b[49m\n\u001b[0;32m    607\u001b[0m \u001b[38;5;28mself\u001b[39m\u001b[38;5;241m.\u001b[39mnum_threads \u001b[38;5;241m=\u001b[39m \u001b[38;5;28mself\u001b[39m\u001b[38;5;241m.\u001b[39mget_num_threads()\n\u001b[0;32m    608\u001b[0m \u001b[38;5;28mself\u001b[39m\u001b[38;5;241m.\u001b[39m_get_extra_info()\n",
      "File \u001b[1;32m~\\anaconda3\\lib\\site-packages\\threadpoolctl.py:646\u001b[0m, in \u001b[0;36m_OpenBLASModule.get_version\u001b[1;34m(self)\u001b[0m\n\u001b[0;32m    643\u001b[0m get_config \u001b[38;5;241m=\u001b[39m \u001b[38;5;28mgetattr\u001b[39m(\u001b[38;5;28mself\u001b[39m\u001b[38;5;241m.\u001b[39m_dynlib, \u001b[38;5;124m\"\u001b[39m\u001b[38;5;124mopenblas_get_config\u001b[39m\u001b[38;5;124m\"\u001b[39m,\n\u001b[0;32m    644\u001b[0m                      \u001b[38;5;28;01mlambda\u001b[39;00m: \u001b[38;5;28;01mNone\u001b[39;00m)\n\u001b[0;32m    645\u001b[0m get_config\u001b[38;5;241m.\u001b[39mrestype \u001b[38;5;241m=\u001b[39m ctypes\u001b[38;5;241m.\u001b[39mc_char_p\n\u001b[1;32m--> 646\u001b[0m config \u001b[38;5;241m=\u001b[39m \u001b[43mget_config\u001b[49m\u001b[43m(\u001b[49m\u001b[43m)\u001b[49m\u001b[38;5;241;43m.\u001b[39;49m\u001b[43msplit\u001b[49m()\n\u001b[0;32m    647\u001b[0m \u001b[38;5;28;01mif\u001b[39;00m config[\u001b[38;5;241m0\u001b[39m] \u001b[38;5;241m==\u001b[39m \u001b[38;5;124mb\u001b[39m\u001b[38;5;124m\"\u001b[39m\u001b[38;5;124mOpenBLAS\u001b[39m\u001b[38;5;124m\"\u001b[39m:\n\u001b[0;32m    648\u001b[0m     \u001b[38;5;28;01mreturn\u001b[39;00m config[\u001b[38;5;241m1\u001b[39m]\u001b[38;5;241m.\u001b[39mdecode(\u001b[38;5;124m\"\u001b[39m\u001b[38;5;124mutf-8\u001b[39m\u001b[38;5;124m\"\u001b[39m)\n",
      "\u001b[1;31mAttributeError\u001b[0m: 'NoneType' object has no attribute 'split'"
     ]
    }
   ],
   "source": [
    "# Define the path to the folder containing subfolders\n",
    "path_to_descriptors = \"LifetimeDesc\"\n",
    "results_folder = \"LifetimeScores\"\n",
    "if os.path.exists(results_folder):\n",
    "    shutil.rmtree(results_folder)\n",
    "\n",
    "\n",
    "# Loop over each subfolder\n",
    "for subfolder_name in os.listdir(path_to_descriptors):\n",
    "    \n",
    "    # Define the path to the X.csv and Y.csv files for the current subfolder\n",
    "    path_to_X = os.path.join(path_to_descriptors, subfolder_name, \"X.csv\")\n",
    "    path_to_Y = os.path.join(path_to_descriptors, subfolder_name, \"Y.csv\")\n",
    "    \n",
    "    # Load the X.csv and Y.csv files as dataframes\n",
    "    X = pd.read_csv(path_to_X)\n",
    "    Y = pd.read_csv(path_to_Y)\n",
    "    \n",
    "    # Call the train_models function with X, Y, and the current subfolder name as the PATH argument\n",
    "    train_regression(X, Y, f\"{results_folder}/{subfolder_name}\")"
   ]
  },
  {
   "cell_type": "markdown",
   "metadata": {},
   "source": [
    "### Plot results"
   ]
  },
  {
   "cell_type": "code",
   "execution_count": 30,
   "metadata": {},
   "outputs": [
    {
     "name": "stdout",
     "output_type": "stream",
     "text": [
      "LambdaMaxScores\\MACCSKeysFingerprint\n",
      "LambdaMaxScores\\Morgan fingerprints\n",
      "LambdaMaxScores\\RDKitDescriptors\n"
     ]
    }
   ],
   "source": [
    "for subfolder in os.listdir(\"LambdaMaxScores\"):\n",
    "        subfolder_path = os.path.join(\"LambdaMaxScores\", subfolder)\n",
    "        print(subfolder_path)"
   ]
  },
  {
   "cell_type": "code",
   "execution_count": 95,
   "metadata": {},
   "outputs": [
    {
     "name": "stdout",
     "output_type": "stream",
     "text": [
      "/Users/ganeshjadhav/Desktop/ML_Projects/MyProjects/Fluorescent_compound_prediction/LambdaMaxScores/MACCSKeysFingerprint/Random Forest Regression\n",
      "/Users/ganeshjadhav/Desktop/ML_Projects/MyProjects/Fluorescent_compound_prediction/LambdaMaxScores/MACCSKeysFingerprint/Support Vector Regression\n",
      "/Users/ganeshjadhav/Desktop/ML_Projects/MyProjects/Fluorescent_compound_prediction/LambdaMaxScores/MACCSKeysFingerprint/ElasticNet Regression\n",
      "/Users/ganeshjadhav/Desktop/ML_Projects/MyProjects/Fluorescent_compound_prediction/LambdaMaxScores/MACCSKeysFingerprint/Lasso Regression\n",
      "/Users/ganeshjadhav/Desktop/ML_Projects/MyProjects/Fluorescent_compound_prediction/LambdaMaxScores/MACCSKeysFingerprint/Ridge Regression\n",
      "/Users/ganeshjadhav/Desktop/ML_Projects/MyProjects/Fluorescent_compound_prediction/LambdaMaxScores/MACCSKeysFingerprint/Decision Tree Regression\n",
      "/Users/ganeshjadhav/Desktop/ML_Projects/MyProjects/Fluorescent_compound_prediction/LambdaMaxScores/MACCSKeysFingerprint/K-Nearest Neighbors Regression\n"
     ]
    }
   ],
   "source": [
    "for subfolder in os.listdir(\"/Users/ganeshjadhav/Desktop/ML_Projects/MyProjects/Fluorescent_compound_prediction/LambdaMaxScores/MACCSKeysFingerprint\"):\n",
    "        subfolder_path = os.path.join(\"/Users/ganeshjadhav/Desktop/ML_Projects/MyProjects/Fluorescent_compound_prediction/LambdaMaxScores/MACCSKeysFingerprint\", subfolder)\n",
    "        print(subfolder_path)"
   ]
  },
  {
   "cell_type": "code",
   "execution_count": 103,
   "metadata": {},
   "outputs": [],
   "source": [
    "import os\n",
    "import pandas as pd\n",
    "import matplotlib.pyplot as plt\n",
    "import datetime\n",
    "\n",
    "def plot_metrics(SCORES_FOLDER,METRIC_TO_PLOT):\n",
    "        \n",
    "    # Define a list to store the accuracy values for each csv file\n",
    "    accuracy_values = []\n",
    "\n",
    "    # Loop through each subfolder in folder1\n",
    "    for subfolder in os.listdir(SCORES_FOLDER):\n",
    "        subfolder_path = os.path.join(SCORES_FOLDER, subfolder)\n",
    "\n",
    "        for new_subfolder in os.listdir(subfolder_path):\n",
    "            new_subfolder_path = os.path.join(subfolder_path, new_subfolder)\n",
    "            # Loop through each csv file in the subfolder\n",
    "            for csv_file in os.listdir(new_subfolder_path):\n",
    "                if csv_file.endswith('.csv'):\n",
    "                    csv_path = os.path.join(new_subfolder_path, csv_file)\n",
    "                    \n",
    "                    # Read the csv file into a pandas dataframe\n",
    "                    df = pd.read_csv(csv_path, index_col=[0])\n",
    "                    \n",
    "                    # Extract the accuracy value from the dataframe and append it to the list\n",
    "                    accuracy_value = df.loc[METRIC_TO_PLOT].values[0]\n",
    "                    accuracy_values.append((subfolder, csv_file[:-4], accuracy_value)) # Remove the last 4 characters (i.e. \".csv\") from the csv file name\n",
    "\n",
    "    # Convert the accuracy values list to a pandas dataframe\n",
    "    df_accuracy = pd.DataFrame(accuracy_values, columns=['Subfolder', 'CSV File', METRIC_TO_PLOT])\n",
    "\n",
    "    # Pivot the dataframe to have Subfolder as the index, CSV File as the columns, and Accuracy as the values\n",
    "    df_accuracy_pivot = df_accuracy.pivot(index='Subfolder', columns='CSV File', values=METRIC_TO_PLOT)\n",
    "\n",
    "    # Create a plot of the accuracy values\n",
    "    plt.figure(figsize=(10, 5))\n",
    "    for csv_file in df_accuracy_pivot.columns:\n",
    "        plt.plot(df_accuracy_pivot.index, df_accuracy_pivot[csv_file], label=csv_file[:]) # Remove the last 4 characters (i.e. \".csv\") from the csv file name\n",
    "    plt.xlabel('Subfolder')\n",
    "    plt.ylabel(METRIC_TO_PLOT)\n",
    "    plt.legend()\n",
    "\n",
    "    # Get the current date and time and format it for the filename\n",
    "    now = datetime.datetime.now()\n",
    "\n",
    "    # Define the path and filename for the plot\n",
    "    plot_path = f'{SCORES_FOLDER[:-6]}plots'\n",
    "    if not os.path.exists(plot_path):\n",
    "        os.makedirs(plot_path)\n",
    "        \n",
    "    plot_name = os.path.join(plot_path, METRIC_TO_PLOT)\n",
    "\n",
    "    # Save the plot\n",
    "    plt.savefig(plot_name)\n",
    "\n",
    "    # Show the plot\n",
    "    plt.show()\n",
    "\n",
    "    print(f\"Compairison plots saved at: {plot_path}\")\n",
    "\n",
    "    return df_accuracy\n"
   ]
  },
  {
   "cell_type": "code",
   "execution_count": 110,
   "metadata": {},
   "outputs": [
    {
     "data": {
      "image/png": "[encoded data removed]",
      "text/plain": [
       "<Figure size 1000x500 with 1 Axes>"
      ]
     },
     "metadata": {},
     "output_type": "display_data"
    },
    {
     "name": "stdout",
     "output_type": "stream",
     "text": [
      "Compairison plots saved at: LambdaMaxplots\n"
     ]
    },
    {
     "data": {
      "text/html": [
       "<div>\n",
       "<style scoped>\n",
       "    .dataframe tbody tr th:only-of-type {\n",
       "        vertical-align: middle;\n",
       "    }\n",
       "\n",
       "    .dataframe tbody tr th {\n",
       "        vertical-align: top;\n",
       "    }\n",
       "\n",
       "    .dataframe thead th {\n",
       "        text-align: right;\n",
       "    }\n",
       "</style>\n",
       "<table border=\"1\" class=\"dataframe\">\n",
       "  <thead>\n",
       "    <tr style=\"text-align: right;\">\n",
       "      <th></th>\n",
       "      <th>Subfolder</th>\n",
       "      <th>CSV File</th>\n",
       "      <th>r2_score</th>\n",
       "    </tr>\n",
       "  </thead>\n",
       "  <tbody>\n",
       "    <tr>\n",
       "      <th>0</th>\n",
       "      <td>MACCSKeysFingerprint</td>\n",
       "      <td>Random Forest Regression</td>\n",
       "      <td>0.925080</td>\n",
       "    </tr>\n",
       "    <tr>\n",
       "      <th>1</th>\n",
       "      <td>MACCSKeysFingerprint</td>\n",
       "      <td>Support Vector Regression</td>\n",
       "      <td>0.505404</td>\n",
       "    </tr>\n",
       "    <tr>\n",
       "      <th>2</th>\n",
       "      <td>MACCSKeysFingerprint</td>\n",
       "      <td>ElasticNet Regression</td>\n",
       "      <td>0.485338</td>\n",
       "    </tr>\n",
       "    <tr>\n",
       "      <th>3</th>\n",
       "      <td>MACCSKeysFingerprint</td>\n",
       "      <td>Lasso Regression</td>\n",
       "      <td>0.585026</td>\n",
       "    </tr>\n",
       "    <tr>\n",
       "      <th>4</th>\n",
       "      <td>MACCSKeysFingerprint</td>\n",
       "      <td>Ridge Regression</td>\n",
       "      <td>0.679154</td>\n",
       "    </tr>\n",
       "    <tr>\n",
       "      <th>5</th>\n",
       "      <td>MACCSKeysFingerprint</td>\n",
       "      <td>Decision Tree Regression</td>\n",
       "      <td>0.875415</td>\n",
       "    </tr>\n",
       "    <tr>\n",
       "      <th>6</th>\n",
       "      <td>MACCSKeysFingerprint</td>\n",
       "      <td>K-Nearest Neighbors Regression</td>\n",
       "      <td>0.853002</td>\n",
       "    </tr>\n",
       "    <tr>\n",
       "      <th>7</th>\n",
       "      <td>RDKitDescriptors</td>\n",
       "      <td>Random Forest Regression</td>\n",
       "      <td>0.946173</td>\n",
       "    </tr>\n",
       "    <tr>\n",
       "      <th>8</th>\n",
       "      <td>RDKitDescriptors</td>\n",
       "      <td>Support Vector Regression</td>\n",
       "      <td>0.436670</td>\n",
       "    </tr>\n",
       "    <tr>\n",
       "      <th>9</th>\n",
       "      <td>RDKitDescriptors</td>\n",
       "      <td>ElasticNet Regression</td>\n",
       "      <td>0.617163</td>\n",
       "    </tr>\n",
       "    <tr>\n",
       "      <th>10</th>\n",
       "      <td>RDKitDescriptors</td>\n",
       "      <td>Lasso Regression</td>\n",
       "      <td>0.652476</td>\n",
       "    </tr>\n",
       "    <tr>\n",
       "      <th>11</th>\n",
       "      <td>RDKitDescriptors</td>\n",
       "      <td>Ridge Regression</td>\n",
       "      <td>0.734748</td>\n",
       "    </tr>\n",
       "    <tr>\n",
       "      <th>12</th>\n",
       "      <td>RDKitDescriptors</td>\n",
       "      <td>Decision Tree Regression</td>\n",
       "      <td>0.884852</td>\n",
       "    </tr>\n",
       "    <tr>\n",
       "      <th>13</th>\n",
       "      <td>RDKitDescriptors</td>\n",
       "      <td>K-Nearest Neighbors Regression</td>\n",
       "      <td>0.799126</td>\n",
       "    </tr>\n",
       "    <tr>\n",
       "      <th>14</th>\n",
       "      <td>Morgan fingerprints</td>\n",
       "      <td>Random Forest Regression</td>\n",
       "      <td>0.948655</td>\n",
       "    </tr>\n",
       "    <tr>\n",
       "      <th>15</th>\n",
       "      <td>Morgan fingerprints</td>\n",
       "      <td>Support Vector Regression</td>\n",
       "      <td>0.364966</td>\n",
       "    </tr>\n",
       "    <tr>\n",
       "      <th>16</th>\n",
       "      <td>Morgan fingerprints</td>\n",
       "      <td>ElasticNet Regression</td>\n",
       "      <td>0.461829</td>\n",
       "    </tr>\n",
       "    <tr>\n",
       "      <th>17</th>\n",
       "      <td>Morgan fingerprints</td>\n",
       "      <td>Lasso Regression</td>\n",
       "      <td>0.614806</td>\n",
       "    </tr>\n",
       "    <tr>\n",
       "      <th>18</th>\n",
       "      <td>Morgan fingerprints</td>\n",
       "      <td>Ridge Regression</td>\n",
       "      <td>0.833053</td>\n",
       "    </tr>\n",
       "    <tr>\n",
       "      <th>19</th>\n",
       "      <td>Morgan fingerprints</td>\n",
       "      <td>Decision Tree Regression</td>\n",
       "      <td>0.914245</td>\n",
       "    </tr>\n",
       "    <tr>\n",
       "      <th>20</th>\n",
       "      <td>Morgan fingerprints</td>\n",
       "      <td>K-Nearest Neighbors Regression</td>\n",
       "      <td>0.910565</td>\n",
       "    </tr>\n",
       "  </tbody>\n",
       "</table>\n",
       "</div>"
      ],
      "text/plain": [
       "               Subfolder                        CSV File  r2_score\n",
       "0   MACCSKeysFingerprint        Random Forest Regression  0.925080\n",
       "1   MACCSKeysFingerprint       Support Vector Regression  0.505404\n",
       "2   MACCSKeysFingerprint           ElasticNet Regression  0.485338\n",
       "3   MACCSKeysFingerprint                Lasso Regression  0.585026\n",
       "4   MACCSKeysFingerprint                Ridge Regression  0.679154\n",
       "5   MACCSKeysFingerprint        Decision Tree Regression  0.875415\n",
       "6   MACCSKeysFingerprint  K-Nearest Neighbors Regression  0.853002\n",
       "7       RDKitDescriptors        Random Forest Regression  0.946173\n",
       "8       RDKitDescriptors       Support Vector Regression  0.436670\n",
       "9       RDKitDescriptors           ElasticNet Regression  0.617163\n",
       "10      RDKitDescriptors                Lasso Regression  0.652476\n",
       "11      RDKitDescriptors                Ridge Regression  0.734748\n",
       "12      RDKitDescriptors        Decision Tree Regression  0.884852\n",
       "13      RDKitDescriptors  K-Nearest Neighbors Regression  0.799126\n",
       "14   Morgan fingerprints        Random Forest Regression  0.948655\n",
       "15   Morgan fingerprints       Support Vector Regression  0.364966\n",
       "16   Morgan fingerprints           ElasticNet Regression  0.461829\n",
       "17   Morgan fingerprints                Lasso Regression  0.614806\n",
       "18   Morgan fingerprints                Ridge Regression  0.833053\n",
       "19   Morgan fingerprints        Decision Tree Regression  0.914245\n",
       "20   Morgan fingerprints  K-Nearest Neighbors Regression  0.910565"
      ]
     },
     "execution_count": 110,
     "metadata": {},
     "output_type": "execute_result"
    }
   ],
   "source": [
    "SCORES_FOLDER = \"LambdaMaxScores\"\n",
    "METRIC_TO_PLOT = \"r2_score\"\n",
    "plot_metrics(SCORES_FOLDER,METRIC_TO_PLOT)"
   ]
  }
 ],
 "metadata": {
  "kernelspec": {
   "display_name": "Python 3 (ipykernel)",
   "language": "python",
   "name": "python3"
  },
  "language_info": {
   "codemirror_mode": {
    "name": "ipython",
    "version": 3
   },
   "file_extension": ".py",
   "mimetype": "text/x-python",
   "name": "python",
   "nbconvert_exporter": "python",
   "pygments_lexer": "ipython3",
   "version": "3.9.16"
  },
  "vscode": {
   "interpreter": {
    "hash": "e7370f93d1d0cde622a1f8e1c04877d8463912d04d973331ad4851f04de6915a"
   }
  }
 },
 "nbformat": 4,
 "nbformat_minor": 2
}
